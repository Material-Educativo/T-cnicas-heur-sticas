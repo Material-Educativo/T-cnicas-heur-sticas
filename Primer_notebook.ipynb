{
  "nbformat": 4,
  "nbformat_minor": 0,
  "metadata": {
    "colab": {
      "provenance": [],
      "authorship_tag": "ABX9TyO6+v5OI7BA+QBfJKK9CwuK",
      "include_colab_link": true
    },
    "kernelspec": {
      "name": "python3",
      "display_name": "Python 3"
    },
    "language_info": {
      "name": "python"
    }
  },
  "cells": [
    {
      "cell_type": "markdown",
      "metadata": {
        "id": "view-in-github",
        "colab_type": "text"
      },
      "source": [
        "<a href=\"https://colab.research.google.com/github/Material-Educativo/Tecnicas-heuristicas/blob/main/Primer_notebook.ipynb\" target=\"_parent\"><img src=\"https://colab.research.google.com/assets/colab-badge.svg\" alt=\"Open In Colab\"/></a>"
      ]
    },
    {
      "cell_type": "markdown",
      "source": [
        "# Primer celda de texto\n",
        "En este espacio se puede incluir texto normal o texto en $LaTex$, por ejemplo: $x^2+y^2=1$, o bien:\n",
        "\n",
        "$$\n",
        "x = \\frac{-b \\pm \\sqrt{b^2 - 4ac}}{2a}\n",
        "$$"
      ],
      "metadata": {
        "id": "tD5lSWpX1rqm"
      }
    },
    {
      "cell_type": "markdown",
      "source": [
        "Dentro de una celda de código puedes incluir comentarios siempre y cuando vayan precedidos del símbolo #.\n",
        "\n",
        "En la siguiente celda de código se hace uso de la función $print$ para imprimir el texto \"Hola\"."
      ],
      "metadata": {
        "id": "eERReA24j5-1"
      }
    },
    {
      "cell_type": "code",
      "source": [
        "# Este es un comentario\n",
        "print(\"Hola\") # Este es otro comentario"
      ],
      "metadata": {
        "colab": {
          "base_uri": "https://localhost:8080/"
        },
        "id": "NsDPof8v6sCO",
        "outputId": "94226c69-6b7d-44da-cfb4-fd0ffe21bf39"
      },
      "execution_count": null,
      "outputs": [
        {
          "output_type": "stream",
          "name": "stdout",
          "text": [
            "Hola\n"
          ]
        }
      ]
    },
    {
      "cell_type": "code",
      "source": [
        "a = 4\n",
        "b = 1\n",
        "c = a + b\n",
        "print(\"El resultado de la suma de a + b es: \", c)"
      ],
      "metadata": {
        "id": "BbJgo5_Y62Gs",
        "outputId": "d2614e96-19c6-4b03-b3f1-935efaf71676",
        "colab": {
          "base_uri": "https://localhost:8080/"
        }
      },
      "execution_count": null,
      "outputs": [
        {
          "output_type": "stream",
          "name": "stdout",
          "text": [
            "El resultado de la suma de a + b es:  5\n"
          ]
        }
      ]
    },
    {
      "cell_type": "markdown",
      "source": [
        "# Condicionales $if$ y $else$"
      ],
      "metadata": {
        "id": "4Kbxum6jVuie"
      }
    },
    {
      "cell_type": "code",
      "source": [
        "# Sea asigna un valor a la variable x\n",
        "x = 5\n",
        "\n",
        "# Se emplea un condicional para deterinar si es negativa o no\n",
        "if x < 0:\n",
        "  print(\"La variable es negativa\")\n",
        "else:\n",
        "  print(\"La variable no es negativa\")"
      ],
      "metadata": {
        "colab": {
          "base_uri": "https://localhost:8080/"
        },
        "id": "V_6mUQC_lq85",
        "outputId": "7594f814-17c8-4c8a-a8b2-85663d6bf67f"
      },
      "execution_count": null,
      "outputs": [
        {
          "output_type": "stream",
          "name": "stdout",
          "text": [
            "La variable no es negativa\n"
          ]
        }
      ]
    },
    {
      "cell_type": "markdown",
      "source": [
        "# Ciclo $for$"
      ],
      "metadata": {
        "id": "UIluBNJEVx9r"
      }
    },
    {
      "cell_type": "code",
      "source": [
        "for i in range(10):\n",
        "  print(\"Vamos en la iteración: \", i)"
      ],
      "metadata": {
        "id": "xS8YRUSU4_uW",
        "colab": {
          "base_uri": "https://localhost:8080/"
        },
        "outputId": "20907eb8-ed87-4a98-ef1e-93afc813dc7f"
      },
      "execution_count": null,
      "outputs": [
        {
          "output_type": "stream",
          "name": "stdout",
          "text": [
            "Vamos en la iteración:  0\n",
            "Vamos en la iteración:  1\n",
            "Vamos en la iteración:  2\n",
            "Vamos en la iteración:  3\n",
            "Vamos en la iteración:  4\n",
            "Vamos en la iteración:  5\n",
            "Vamos en la iteración:  6\n",
            "Vamos en la iteración:  7\n",
            "Vamos en la iteración:  8\n",
            "Vamos en la iteración:  9\n"
          ]
        }
      ]
    },
    {
      "cell_type": "markdown",
      "source": [
        "# Ciclo $while$"
      ],
      "metadata": {
        "id": "QlYJVo90WDzD"
      }
    },
    {
      "cell_type": "code",
      "source": [
        "i = 0\n",
        "while i < 10:\n",
        "  i+=1\n",
        "  print(\"El valor actual de i e: \", i)"
      ],
      "metadata": {
        "colab": {
          "base_uri": "https://localhost:8080/"
        },
        "id": "QFVtIfltrAB8",
        "outputId": "ed13c241-b033-4890-aead-b02a978383f1"
      },
      "execution_count": null,
      "outputs": [
        {
          "output_type": "stream",
          "name": "stdout",
          "text": [
            "El valor actual de i e:  1\n",
            "El valor actual de i e:  2\n",
            "El valor actual de i e:  3\n",
            "El valor actual de i e:  4\n",
            "El valor actual de i e:  5\n",
            "El valor actual de i e:  6\n",
            "El valor actual de i e:  7\n",
            "El valor actual de i e:  8\n",
            "El valor actual de i e:  9\n",
            "El valor actual de i e:  10\n"
          ]
        }
      ]
    },
    {
      "cell_type": "code",
      "source": [
        "i = 0\n",
        "while i < 10:\n",
        "  i+=1\n",
        "print(\"El valor actual de i e: \", i)"
      ],
      "metadata": {
        "colab": {
          "base_uri": "https://localhost:8080/"
        },
        "id": "UOQWd5nCrAFE",
        "outputId": "060e69a1-4849-4483-d29f-04f31634fef6"
      },
      "execution_count": null,
      "outputs": [
        {
          "output_type": "stream",
          "name": "stdout",
          "text": [
            "El valor actual de i e:  10\n"
          ]
        }
      ]
    },
    {
      "cell_type": "markdown",
      "source": [
        "# Definición de funciones"
      ],
      "metadata": {
        "id": "N8YvyjC3WUCv"
      }
    },
    {
      "cell_type": "code",
      "source": [
        "def Suma(a, b):\n",
        "  # Se realiza la suma de los parámetros\n",
        "  suma = a + b\n",
        "  # Se devuelve el resultado obtenido\n",
        "  return suma"
      ],
      "metadata": {
        "id": "TeB3RM599StU"
      },
      "execution_count": null,
      "outputs": []
    },
    {
      "cell_type": "code",
      "source": [
        "def SumaResta(a, b):\n",
        "  # Se realiza la suma y resta de los parámetros\n",
        "  suma = a + b\n",
        "  resta = a - b\n",
        "  # Se indica si el resultado de la suma es negativo\n",
        "  if suma < 0:\n",
        "    print(\"El resultado de la suma es negativo.\")\n",
        "  else:\n",
        "    print(\"El resultado de la suma no es negativo.\")\n",
        "  # Se indica si el resultado de la resta es negativo\n",
        "  if resta < 0:\n",
        "    print(\"El resultado de la resta es negativo.\")\n",
        "  else:\n",
        "    print(\"El resultado de la resta no es negativo.\")\n",
        "  # Se devuelven los resultados obtenidos\n",
        "  return suma, resta"
      ],
      "metadata": {
        "id": "9XJdJjEmAYxX"
      },
      "execution_count": null,
      "outputs": []
    },
    {
      "cell_type": "code",
      "source": [
        "# Primero se asignan valores a las variables\n",
        "x = 5\n",
        "y = 7\n",
        "\n",
        "# Se llama a la función Suma\n",
        "resultado_suma = Suma(x,y)\n",
        "print(\"El resultado de la suma de \", x,\" + \", y, \" es: \", resultado_suma)\n",
        "\n",
        "# Se llama a la función SumaResta\n",
        "resultado_1, resultado_2 = SumaResta(x,y)"
      ],
      "metadata": {
        "id": "h9dtxV_0EygQ",
        "colab": {
          "base_uri": "https://localhost:8080/"
        },
        "outputId": "dc518ce3-ffc0-4261-e3ca-5e1b9969801d"
      },
      "execution_count": null,
      "outputs": [
        {
          "output_type": "stream",
          "name": "stdout",
          "text": [
            "El resultado de la suma de  5  +  7  es:  12\n",
            "El resultado de la suma no es negativo.\n",
            "El resultado de la resta es negativo.\n"
          ]
        }
      ]
    },
    {
      "cell_type": "code",
      "source": [],
      "metadata": {
        "id": "E5PnrjItHa9R"
      },
      "execution_count": null,
      "outputs": []
    }
  ]
}