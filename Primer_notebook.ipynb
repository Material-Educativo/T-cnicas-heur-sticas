{
  "nbformat": 4,
  "nbformat_minor": 0,
  "metadata": {
    "colab": {
      "provenance": [],
      "authorship_tag": "ABX9TyPkJAd765vXDQHquZvJdUzg",
      "include_colab_link": true
    },
    "kernelspec": {
      "name": "python3",
      "display_name": "Python 3"
    },
    "language_info": {
      "name": "python"
    }
  },
  "cells": [
    {
      "cell_type": "markdown",
      "metadata": {
        "id": "view-in-github",
        "colab_type": "text"
      },
      "source": [
        "<a href=\"https://colab.research.google.com/github/Material-Educativo/Tecnicas-heuristicas/blob/main/Primer_notebook.ipynb\" target=\"_parent\"><img src=\"https://colab.research.google.com/assets/colab-badge.svg\" alt=\"Open In Colab\"/></a>"
      ]
    },
    {
      "cell_type": "markdown",
      "source": [
        "# Primer celda de texto\n",
        "En este espacio se puede incluir texto normal o texto en $LaTex$, por ejemplo: $x^2+y^2=1$, o bien:\n",
        "\n",
        "$$\n",
        "x = \\frac{-b \\pm \\sqrt{b^2 - 4ac}}{2a}\n",
        "$$"
      ],
      "metadata": {
        "id": "tD5lSWpX1rqm"
      }
    },
    {
      "cell_type": "markdown",
      "source": [
        "Dentro de una celda de código puedes incluir comentarios siempre y cuando vayan precedidos del símbolo #.\n",
        "\n",
        "En la siguiente celda de código se hace uso de la función $print$ para imprimir el texto \"Hola\"."
      ],
      "metadata": {
        "id": "eERReA24j5-1"
      }
    },
    {
      "cell_type": "code",
      "source": [
        "# Este es un comentario\n",
        "print(\"Hola\") # Este es otro comentario"
      ],
      "metadata": {
        "id": "NsDPof8v6sCO"
      },
      "execution_count": null,
      "outputs": []
    },
    {
      "cell_type": "markdown",
      "source": [
        "También puedes imprimir valores de variables, sólo debes tener cuidado de\n",
        "que el texto se encuentre entre comillas, y que separes el texto de las variables con una coma dentro de la función print, como se muestra en la siguiente celda."
      ],
      "metadata": {
        "id": "Pp_Aq2mElA1u"
      }
    },
    {
      "cell_type": "code",
      "source": [
        "a = 4\n",
        "b = 1\n",
        "c = a + b\n",
        "print(\"El resultado de la suma de a + b es: \", c)"
      ],
      "metadata": {
        "id": "BbJgo5_Y62Gs"
      },
      "execution_count": null,
      "outputs": []
    },
    {
      "cell_type": "markdown",
      "source": [
        "# Condicionales $if$ y $else$\n",
        "\n",
        "Al igual que en muchos otros lenguajes de programación, los condicionales en Python incluyen las funciones *if* y *else*, que se emplean para realizar un conjunto de acciones cuando se satisface alguna condición. En la siguiente celda de código se muestra cómo puedes emplearlas.\n",
        "\n",
        "Observa que primero se asigna un valor a la variable *i*, y después se usa el condicional *if* para determinar si la variable tiene un valor menor que cero, en cuyo caso se imprime el mensaje \"*La variable es negativa*\". Si la condición no se cumple, se deberán realizar las instrucciones indicadas dentro de la función *else*, en este caso se imprime el mensaje \"*La variable no es negativa.*\"."
      ],
      "metadata": {
        "id": "4Kbxum6jVuie"
      }
    },
    {
      "cell_type": "code",
      "source": [
        "# Sea asigna un valor a la variable x\n",
        "x = 5\n",
        "\n",
        "# Se emplea un condicional para deterinar si es negativa o no\n",
        "if x < 0:\n",
        "  print(\"La variable es negativa\")\n",
        "else:\n",
        "  print(\"La variable no es negativa\")"
      ],
      "metadata": {
        "id": "V_6mUQC_lq85"
      },
      "execution_count": null,
      "outputs": []
    },
    {
      "cell_type": "markdown",
      "source": [
        "# Ciclo *for*\n",
        "En Python se puede usar el *for* de diferentes maneras, pero la forma más sencilla consiste en definir el intervalo de valores que puede tomar la variable que sirve como contador del ciclo. En la siguiente celda se ha empleado la variable *i* como contador en el ciclo, y se ha escrito *in range(10)* para indicar que *i* debe tomar valores enteros del 0 hasta el 9.\n",
        "\n",
        "El resultado al ejecutar esta celda será la impresión de los valores que va tomando la variable *i* en cada paso del ciclo, empezando desde 0 y terminando en 9."
      ],
      "metadata": {
        "id": "UIluBNJEVx9r"
      }
    },
    {
      "cell_type": "code",
      "source": [
        "for i in range(10):\n",
        "  print(\"Vamos en la iteración: \", i)"
      ],
      "metadata": {
        "id": "xS8YRUSU4_uW"
      },
      "execution_count": null,
      "outputs": []
    },
    {
      "cell_type": "markdown",
      "source": [
        "# Ciclo *while*\n",
        "\n",
        "El uso del ciclo *while* se ilustra en la siguiente celda. Observa que las instrucciones de las líneas 3 y 4 están desplazadas hacia la derecha con respecto al margen de la línea 2. Por lo tanto, el valor de la variable *i* se imprimirá diez veces, mostrando su aumento de uno en uno."
      ],
      "metadata": {
        "id": "QlYJVo90WDzD"
      }
    },
    {
      "cell_type": "code",
      "source": [
        "i = 0\n",
        "while i < 10:\n",
        "  i+=1\n",
        "  print(\"El valor actual de i e: \", i)"
      ],
      "metadata": {
        "id": "QFVtIfltrAB8"
      },
      "execution_count": null,
      "outputs": []
    },
    {
      "cell_type": "markdown",
      "source": [
        "Para dar otro ejemplo de la importancia del sangrado en Python se modificará el código anterior borrando el sangrado de la línea 4, como se muestra en la siguiente celda.\n",
        "\n",
        "En esta versión la función *print* ya no está dentro del ciclo *while*, así que la impresión de la variable *i* sólo se realizará una vez, cuando se salga del ciclo."
      ],
      "metadata": {
        "id": "Ah21pZtSnYlH"
      }
    },
    {
      "cell_type": "code",
      "source": [
        "i = 0\n",
        "while i < 10:\n",
        "  i+=1\n",
        "print(\"El valor actual de i e: \", i)"
      ],
      "metadata": {
        "id": "UOQWd5nCrAFE"
      },
      "execution_count": null,
      "outputs": []
    },
    {
      "cell_type": "markdown",
      "source": [
        "# Definición de funciones\n",
        "En algunas ocasiones es necesario definir funciones propias del problema que se está analizando. Para lo cual se requiere crear funciones que reciban parámetros, realicen algunas operaciones con ellos, y que devuelvan los resultados.\n",
        "\n",
        "Primero se verá una función que recibe dos números, los suma y devuelve el resultado"
      ],
      "metadata": {
        "id": "N8YvyjC3WUCv"
      }
    },
    {
      "cell_type": "code",
      "source": [
        "def Suma(a, b):\n",
        "  # Se realiza la suma de los parámetros\n",
        "  suma = a + b\n",
        "  # Se devuelve el resultado obtenido\n",
        "  return suma"
      ],
      "metadata": {
        "id": "TeB3RM599StU"
      },
      "execution_count": null,
      "outputs": []
    },
    {
      "cell_type": "markdown",
      "source": [
        "Observa que lo primero es escribir la palabra reservada *def* para indicar que se creará una función, después se coloca el nombre de la función y entre paréntesis se ponen los parámetros que recibirá, por último se ponen dos puntos.\n",
        "\n",
        "Al dar *Enter* el cursor pasará al siguiente renglón y de forma automática se colocará dejando un espacio en blanco con respecto al margen empleado para la palabra *def*. Todas las instrucciones dentro de esta función deberán escribirse a partir del nuevo margen, o incluso a niveles \"más profundos\" si se agregan condicionales o ciclos, como se observa en la siguiente celda con la función *SumaResta*.\n",
        "\n",
        "Es importante destacar que la función *SumaResta* devuelve dos valores. De hecho, en Python las funciones pueden devolver la cantidad y tipo de variables que se requieran, dando mucha libertad a los programadores."
      ],
      "metadata": {
        "id": "XZnRpi9yoPHO"
      }
    },
    {
      "cell_type": "code",
      "source": [
        "def SumaResta(a, b):\n",
        "  # Se realiza la suma y resta de los parámetros\n",
        "  suma = a + b\n",
        "  resta = a - b\n",
        "  # Se indica si el resultado de la suma es negativo\n",
        "  if suma < 0:\n",
        "    print(\"El resultado de la suma es negativo.\")\n",
        "  else:\n",
        "    print(\"El resultado de la suma no es negativo.\")\n",
        "  # Se indica si el resultado de la resta es negativo\n",
        "  if resta < 0:\n",
        "    print(\"El resultado de la resta es negativo.\")\n",
        "  else:\n",
        "    print(\"El resultado de la resta no es negativo.\")\n",
        "  # Se devuelven los resultados obtenidos\n",
        "  return suma, resta"
      ],
      "metadata": {
        "id": "9XJdJjEmAYxX"
      },
      "execution_count": null,
      "outputs": []
    },
    {
      "cell_type": "markdown",
      "source": [
        "Una vez que has creado una función debes compilar la celda, con el ícono de *play* o con la combinación de teclas *Shift + Enter*.\n",
        "\n",
        "Recuerda compilar las celdas de las dos funciones creadas hasta este punto."
      ],
      "metadata": {
        "id": "CmNr_CQqo1Cq"
      }
    },
    {
      "cell_type": "markdown",
      "source": [
        "Para poder usar las funciones es necesario emplear su nombre completo, proporcionar los parámetros que requieren de acuerdo a su definición, y establecer las variables adecuadas para recibir los valores que devuelvan.\n",
        "\n",
        "En la siguiente celda se ejemplifica cómo llamar a las funciones *Suma* y *SumaResta*. Observa que primero se asignaron valores a *x* y a *y*. Después se usaron como parámetros para invocar a las dos funciones.\n",
        "\n",
        "Finalmente, el valor devuelto por la función *Suma* se guarda en la variable *resultado\\_suma* y se imprime. Mientras que los dos valores devueltos por *SumaResta* se guardan en las variables *resultado\\_1* y *resultado\\_2*."
      ],
      "metadata": {
        "id": "P1sY2mNSo-23"
      }
    },
    {
      "cell_type": "code",
      "source": [
        "# Primero se asignan valores a las variables\n",
        "x = 5\n",
        "y = 7\n",
        "\n",
        "# Se llama a la función Suma\n",
        "resultado_suma = Suma(x,y)\n",
        "print(\"El resultado de la suma de \", x,\" + \", y, \" es: \", resultado_suma)\n",
        "\n",
        "# Se llama a la función SumaResta\n",
        "resultado_1, resultado_2 = SumaResta(x,y)"
      ],
      "metadata": {
        "id": "h9dtxV_0EygQ"
      },
      "execution_count": null,
      "outputs": []
    },
    {
      "cell_type": "code",
      "source": [],
      "metadata": {
        "id": "E5PnrjItHa9R"
      },
      "execution_count": null,
      "outputs": []
    }
  ]
}