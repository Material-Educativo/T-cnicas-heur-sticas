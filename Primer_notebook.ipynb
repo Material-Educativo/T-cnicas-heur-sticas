{
  "nbformat": 4,
  "nbformat_minor": 0,
  "metadata": {
    "colab": {
      "provenance": [],
      "authorship_tag": "ABX9TyO6+v5OI7BA+QBfJKK9CwuK",
      "include_colab_link": true
    },
    "kernelspec": {
      "name": "python3",
      "display_name": "Python 3"
    },
    "language_info": {
      "name": "python"
    }
  },
  "cells": [
    {
      "cell_type": "markdown",
      "metadata": {
        "id": "view-in-github",
        "colab_type": "text"
      },
      "source": [
        "<a href=\"https://colab.research.google.com/github/Material-Educativo/Tecnicas-heuristicas/blob/main/Primer_notebook.ipynb\" target=\"_parent\"><img src=\"https://colab.research.google.com/assets/colab-badge.svg\" alt=\"Open In Colab\"/></a>"
      ]
    },
    {
      "cell_type": "markdown",
      "source": [
        "# Primer celda de texto\n",
        "En este espacio se puede incluir texto normal o texto en $LaTex$, por ejemplo: $x^2+y^2=1$, o bien:\n",
        "\n",
        "$$\n",
        "x = \\frac{-b \\pm \\sqrt{b^2 - 4ac}}{2a}\n",
        "$$"
      ],
      "metadata": {
        "id": "tD5lSWpX1rqm"
      }
    },
    {
      "cell_type": "markdown",
      "source": [
        "Dentro de una celda de código puedes incluir comentarios siempre y cuando vayan precedidos del símbolo #.\n",
        "\n",
        "En la siguiente celda de código se hace uso de la función $print$ para imprimir el texto \"Hola\"."
      ],
      "metadata": {
        "id": "eERReA24j5-1"
      }
    },
    {
      "cell_type": "code",
      "source": [
        "# Este es un comentario\n",
        "print(\"Hola\") # Este es otro comentario"
      ],
      "metadata": {
        "id": "NsDPof8v6sCO"
      },
      "execution_count": null,
      "outputs": []
    },
    {
      "cell_type": "code",
      "source": [
        "a = 4\n",
        "b = 1\n",
        "c = a + b\n",
        "print(\"El resultado de la suma de a + b es: \", c)"
      ],
      "metadata": {
        "id": "BbJgo5_Y62Gs"
      },
      "execution_count": null,
      "outputs": []
    },
    {
      "cell_type": "markdown",
      "source": [
        "# Condicionales $if$ y $else$"
      ],
      "metadata": {
        "id": "4Kbxum6jVuie"
      }
    },
    {
      "cell_type": "code",
      "source": [
        "# Sea asigna un valor a la variable x\n",
        "x = 5\n",
        "\n",
        "# Se emplea un condicional para deterinar si es negativa o no\n",
        "if x < 0:\n",
        "  print(\"La variable es negativa\")\n",
        "else:\n",
        "  print(\"La variable no es negativa\")"
      ],
      "metadata": {
        "id": "V_6mUQC_lq85"
      },
      "execution_count": null,
      "outputs": []
    },
    {
      "cell_type": "markdown",
      "source": [
        "# Ciclo $for$"
      ],
      "metadata": {
        "id": "UIluBNJEVx9r"
      }
    },
    {
      "cell_type": "code",
      "source": [
        "for i in range(10):\n",
        "  print(\"Vamos en la iteración: \", i)"
      ],
      "metadata": {
        "id": "xS8YRUSU4_uW"
      },
      "execution_count": null,
      "outputs": []
    },
    {
      "cell_type": "markdown",
      "source": [
        "# Ciclo $while$"
      ],
      "metadata": {
        "id": "QlYJVo90WDzD"
      }
    },
    {
      "cell_type": "code",
      "source": [
        "i = 0\n",
        "while i < 10:\n",
        "  i+=1\n",
        "  print(\"El valor actual de i e: \", i)"
      ],
      "metadata": {
        "id": "QFVtIfltrAB8"
      },
      "execution_count": null,
      "outputs": []
    },
    {
      "cell_type": "code",
      "source": [
        "i = 0\n",
        "while i < 10:\n",
        "  i+=1\n",
        "print(\"El valor actual de i e: \", i)"
      ],
      "metadata": {
        "id": "UOQWd5nCrAFE"
      },
      "execution_count": null,
      "outputs": []
    },
    {
      "cell_type": "markdown",
      "source": [
        "# Definición de funciones"
      ],
      "metadata": {
        "id": "N8YvyjC3WUCv"
      }
    },
    {
      "cell_type": "code",
      "source": [
        "def Suma(a, b):\n",
        "  # Se realiza la suma de los parámetros\n",
        "  suma = a + b\n",
        "  # Se devuelve el resultado obtenido\n",
        "  return suma"
      ],
      "metadata": {
        "id": "TeB3RM599StU"
      },
      "execution_count": null,
      "outputs": []
    },
    {
      "cell_type": "code",
      "source": [
        "def SumaResta(a, b):\n",
        "  # Se realiza la suma y resta de los parámetros\n",
        "  suma = a + b\n",
        "  resta = a - b\n",
        "  # Se indica si el resultado de la suma es negativo\n",
        "  if suma < 0:\n",
        "    print(\"El resultado de la suma es negativo.\")\n",
        "  else:\n",
        "    print(\"El resultado de la suma no es negativo.\")\n",
        "  # Se indica si el resultado de la resta es negativo\n",
        "  if resta < 0:\n",
        "    print(\"El resultado de la resta es negativo.\")\n",
        "  else:\n",
        "    print(\"El resultado de la resta no es negativo.\")\n",
        "  # Se devuelven los resultados obtenidos\n",
        "  return suma, resta"
      ],
      "metadata": {
        "id": "9XJdJjEmAYxX"
      },
      "execution_count": null,
      "outputs": []
    },
    {
      "cell_type": "code",
      "source": [
        "# Primero se asignan valores a las variables\n",
        "x = 5\n",
        "y = 7\n",
        "\n",
        "# Se llama a la función Suma\n",
        "resultado_suma = Suma(x,y)\n",
        "print(\"El resultado de la suma de \", x,\" + \", y, \" es: \", resultado_suma)\n",
        "\n",
        "# Se llama a la función SumaResta\n",
        "resultado_1, resultado_2 = SumaResta(x,y)"
      ],
      "metadata": {
        "id": "h9dtxV_0EygQ"
      },
      "execution_count": null,
      "outputs": []
    },
    {
      "cell_type": "code",
      "source": [],
      "metadata": {
        "id": "E5PnrjItHa9R"
      },
      "execution_count": null,
      "outputs": []
    }
  ]
}