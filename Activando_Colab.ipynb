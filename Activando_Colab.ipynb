{
  "nbformat": 4,
  "nbformat_minor": 0,
  "metadata": {
    "colab": {
      "provenance": [],
      "authorship_tag": "ABX9TyMFzsShx5dLyyL0qpOgbW7c",
      "include_colab_link": true
    },
    "kernelspec": {
      "name": "python3",
      "display_name": "Python 3"
    },
    "language_info": {
      "name": "python"
    }
  },
  "cells": [
    {
      "cell_type": "markdown",
      "metadata": {
        "id": "view-in-github",
        "colab_type": "text"
      },
      "source": [
        "<a href=\"https://colab.research.google.com/github/Material-Educativo/Tecnicas-heuristicas/blob/main/Activando_Colab.ipynb\" target=\"_parent\"><img src=\"https://colab.research.google.com/assets/colab-badge.svg\" alt=\"Open In Colab\"/></a>"
      ]
    },
    {
      "cell_type": "markdown",
      "source": [
        "# Activando Colab\n",
        "Este notebook tiene únicamente dos celdas, una de texto y una de código. El objetivo de este notebook es ayudarte a activar colab en tu cuenta de Gmail, para lo cual debes copiar el notebook en tu drive y compilar la celda de código."
      ],
      "metadata": {
        "id": "zWozdLhH64yG"
      }
    },
    {
      "cell_type": "code",
      "source": [
        "# Esta es una celda de código en la que se imprime un mensaje de texto\n",
        "print(\"Listo!!! Has activado Colab.\")\n"
      ],
      "metadata": {
        "id": "J1XTwQsx8Qjf"
      },
      "execution_count": null,
      "outputs": []
    },
    {
      "cell_type": "code",
      "source": [],
      "metadata": {
        "id": "hzjWiH2R80-o"
      },
      "execution_count": null,
      "outputs": []
    }
  ]
}