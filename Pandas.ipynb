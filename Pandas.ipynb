{
  "nbformat": 4,
  "nbformat_minor": 0,
  "metadata": {
    "colab": {
      "provenance": [],
      "mount_file_id": "16xy3RN7ke5dgG3_-rRtIXaUYX05FsYVR",
      "authorship_tag": "ABX9TyPGb6/xB9ZpPrgyyL97RhdJ",
      "include_colab_link": true
    },
    "kernelspec": {
      "name": "python3",
      "display_name": "Python 3"
    },
    "language_info": {
      "name": "python"
    }
  },
  "cells": [
    {
      "cell_type": "markdown",
      "metadata": {
        "id": "view-in-github",
        "colab_type": "text"
      },
      "source": [
        "<a href=\"https://colab.research.google.com/github/Material-Educativo/Tecnicas-heuristicas/blob/main/Pandas.ipynb\" target=\"_parent\"><img src=\"https://colab.research.google.com/assets/colab-badge.svg\" alt=\"Open In Colab\"/></a>"
      ]
    },
    {
      "cell_type": "markdown",
      "source": [
        "# Pandas\n",
        "En este notebook se presentan las funciones de la biblioteca pandas que serán empleadas en el libro.\n",
        "\n",
        "Debe mencionarse que pandas es muy importante en áreas como inteligencias artificial, ciencias de datos, etc. Por lo que un estudio más profundo sobre sus capacidades es una actividad deseable pero se encuentra fuera del alcance de este libro.\n",
        "\n",
        "**Observación**: Antes de continuar copia este notebook en tu drive y realiza los pasos para montar drive."
      ],
      "metadata": {
        "id": "K8SNcYt0kZ40"
      }
    },
    {
      "cell_type": "markdown",
      "source": [
        "Pandas es una biblioteca de Python utilizada para el análisis y manejo de bases de datos.\n",
        "\n",
        "Emplea estructuras de datos con dos dimensiones, conocidos como *DataFrame*, para guardar y trabajar con la información, semejante a una hoja de cálculo. Sus usos más comunes incluyen importar información desde archivos en diferentes formatos como csv, xlsx, json, txt, entre otros, limpieza de datos para eliminar valores nulos o duplicados, filtrado de información, manejo de series de tiempo, y mucho más.\n",
        "\n",
        "En este libro le daremos un uso muy pequeñito a pandas, sólo la emplearemos para almacenar, y leer, los resultados obtenidos por los algoritmos en archivos de formato csv."
      ],
      "metadata": {
        "id": "8FdOkzW6-SGE"
      }
    },
    {
      "cell_type": "markdown",
      "source": [
        "El primer paso consistirá en usar pandas para guardar información en archivos con formato csv en drive."
      ],
      "metadata": {
        "id": "evRP32bNk8Nu"
      }
    },
    {
      "cell_type": "markdown",
      "source": [
        "Para poder trabajar con pandas se debe importar la biblioteca usando la palabra $import$."
      ],
      "metadata": {
        "id": "EnVV2sZDPyGf"
      }
    },
    {
      "cell_type": "code",
      "source": [
        "import pandas as pd"
      ],
      "metadata": {
        "id": "2xDzz0h6QOp3"
      },
      "execution_count": null,
      "outputs": []
    },
    {
      "cell_type": "markdown",
      "source": [
        "Es importante mencionar que para importar pandas sólo se requiere escribir *import pandas*. Sin embargo, es muy común \"renombrar\" las bibliotecas con textos más cortos, en este caso *pd*. De esta forma, cada vez que se requiera alguna función de pandas se podrá llamar haciendo alusión a su nombre corto.\n",
        "\n",
        "Es importante mencionar que puede cualquier nombre corto, excepto palabras reservadas, pero es muy común usar *pd* para referirse a pandas."
      ],
      "metadata": {
        "id": "SysbQ0EsQXpY"
      }
    },
    {
      "cell_type": "markdown",
      "source": [
        "Ahora se mostrará la forma de convertir una lista con algunos valores numé- ricos en un *DataFrame* de pandas. Este ejemplo resultará útil para almacenar los resultados de las técnicas heurísticas que se desarrollarán en el libro.\n",
        "\n",
        "Primero se crea una lista con algunos valores numéricos."
      ],
      "metadata": {
        "id": "zeywSpco-z7B"
      }
    },
    {
      "cell_type": "code",
      "source": [
        "# Lista de valores\n",
        "valores = [10, 20, 30, 40, 50, 60, 70, 80, 90, 100]"
      ],
      "metadata": {
        "id": "x9HdFZlbks9V"
      },
      "execution_count": null,
      "outputs": []
    },
    {
      "cell_type": "markdown",
      "source": [
        "El siguiente paso es convertir la lista en un dataframe mediante la clase *pd.DataFrame* de pandas.\n",
        "\n",
        "Observa que el primer parámetro es la lista de valores creada anteriormente, y el segundo parámetro, $columns$, indica que los valores de la lista representan una columna, que tendrá como encabezado $lista\\_1$."
      ],
      "metadata": {
        "id": "KAHu2Y8mSAK7"
      }
    },
    {
      "cell_type": "code",
      "source": [
        "# Crear un DataFrame a partir de la lista\n",
        "df = pd.DataFrame(valores, columns=['lista_1'])\n",
        "df.head()"
      ],
      "metadata": {
        "id": "KZuspnxqNvcT"
      },
      "execution_count": null,
      "outputs": []
    },
    {
      "cell_type": "markdown",
      "source": [
        "En muchas ocasiones es necesario guardar la información generada en archivos que se puedan analizar más adelante, en esta ocasión se mostrará cómo guardar un *DataFrame* como un archivo de formato *csv* en *drive*.\n",
        "\n",
        "Ahora, se elige una ruta y un nombre para el archivo csv que se desea generar.\n",
        "\n",
        "**Observación:** Te recomendamos ir al C.2.2 del libro para ver cómo se elige la ruta para guardar el archivo."
      ],
      "metadata": {
        "id": "5zMmnHiAT_0P"
      }
    },
    {
      "cell_type": "markdown",
      "source": [
        "Primero debe especificarse una ruta que indique claramente dónde se salvará el archivo, en este caso el archivo se llamará \"lista_valores.csv\", y se guardará en la ruta: “/content/drive/MyDrive/Colab Notebooks/”."
      ],
      "metadata": {
        "id": "koMhaq9rAK3y"
      }
    },
    {
      "cell_type": "code",
      "source": [
        "# Especifica la ruta en tu Google Drive donde quieres guardar el archivo CSV\n",
        "ruta_csv = \"/content/drive/MyDrive/Colab Notebooks/lista_valores.csv\""
      ],
      "metadata": {
        "id": "9Ki9PiTWS6Cw"
      },
      "execution_count": null,
      "outputs": []
    },
    {
      "cell_type": "markdown",
      "source": [
        "Por último, se usa la función $to\\_csv$ para convertir el $DataFrame$, $df$, en un un archivo de formato $csv$, y se guarda en la ruta especificada.\n",
        "\n",
        "Observa que $df$ es el nombre del dataframe que se creó tres celdas arriba, si le cambias de nombre al dataframe, también deberás cambiarlo en esta instrucción.\n",
        "\n",
        "En este caso, se incluyen dos parámetros para la función, el primero es la ruta donde se guardará en archivo.\n",
        "\n",
        "El segundo, $index=False$, es un argumento opcional que le indica a la función $to\\_csv$ que no incluya el índice del $DataFrame$ en el archivo $csv$. Un $DataFrame$ tiene un índice que identifica las filas (normalmente números del 0 en adelante si no se ha especificado otro índice). Al establecer $index=False$, se le dice a Pandas que no escriba esta columna de índice en el archivo $csv$."
      ],
      "metadata": {
        "id": "ljs9MS94X2Uc"
      }
    },
    {
      "cell_type": "code",
      "source": [
        "# Guardar el DataFrame en un archivo CSV\n",
        "df.to_csv(ruta_csv, index=False)\n",
        "\n",
        "print(f\"Archivo CSV guardado en: {ruta_csv}\")"
      ],
      "metadata": {
        "id": "fU6tOEzbX1C4"
      },
      "execution_count": null,
      "outputs": []
    },
    {
      "cell_type": "markdown",
      "source": [
        "Listo, ahora encontrarás el arcivo csv en tu drive."
      ],
      "metadata": {
        "id": "sn7v2-MLZ2Of"
      }
    },
    {
      "cell_type": "markdown",
      "source": [
        "Ahora puede cargar la información de $lista\\_valores.csv$ usando la ruta para encontrar el archivo y la función de pandas $read\\_csv$.\n",
        "\n"
      ],
      "metadata": {
        "id": "hMMsdT9PRZ4a"
      }
    },
    {
      "cell_type": "code",
      "source": [
        "# Ruta al archivo CSV\n",
        "ruta_csv = '/content/drive/MyDrive/Colab Notebooks/lista_valores.csv'\n",
        "\n",
        "# Cargar el archivo CSV en un DataFrame de pandas\n",
        "df = pd.read_csv(ruta_csv)\n",
        "\n",
        "#Imprimir la información del dataframe\n",
        "print(df)"
      ],
      "metadata": {
        "id": "eQ5kBn8ERYTL"
      },
      "execution_count": null,
      "outputs": []
    }
  ]
}