{
  "nbformat": 4,
  "nbformat_minor": 0,
  "metadata": {
    "colab": {
      "provenance": [],
      "authorship_tag": "ABX9TyN2Fkh0KD0AJUavdkW5aVsT",
      "include_colab_link": true
    },
    "kernelspec": {
      "name": "python3",
      "display_name": "Python 3"
    },
    "language_info": {
      "name": "python"
    }
  },
  "cells": [
    {
      "cell_type": "markdown",
      "metadata": {
        "id": "view-in-github",
        "colab_type": "text"
      },
      "source": [
        "<a href=\"https://colab.research.google.com/github/Material-Educativo/Tecnicas-heuristicas/blob/main/An%C3%A1lisis_estad%C3%ADstico.ipynb\" target=\"_parent\"><img src=\"https://colab.research.google.com/assets/colab-badge.svg\" alt=\"Open In Colab\"/></a>"
      ]
    },
    {
      "cell_type": "markdown",
      "source": [
        "#Análisis estadístico\n",
        "En este cuaderno de trabajo se incluye el código necesario para realizar un análiss estadistico de las observaciones disponibles.\n",
        "\n",
        "Las siguientes celdas muestran como obtener la media, mediana, varianza, cuartiles, rango intercuartil y diagramas de caja.\n",
        "\n",
        "El primerr paso es importar la librería numpy para el cálculo de los estadísticos, y la librería matploblib para realizar los diagrramas de cajas."
      ],
      "metadata": {
        "id": "ma6JRWmejDUm"
      }
    },
    {
      "cell_type": "code",
      "execution_count": null,
      "metadata": {
        "id": "KHXd3xzjpcMG"
      },
      "outputs": [],
      "source": [
        "import numpy as np\n",
        "import matplotlib.pyplot as plt"
      ]
    },
    {
      "cell_type": "markdown",
      "source": [
        "Como en este momento no se tienen observaciones reales se generarán dos conjuntos de datos con valores aleatorios."
      ],
      "metadata": {
        "id": "Qr8pPvTZjoFo"
      }
    },
    {
      "cell_type": "code",
      "source": [
        "# Se fija la semilla para reproducibilidad\n",
        "np.random.seed(42)\n",
        "# Se generan 30 valores aleatorios entre 0 y 100, redondeados a dos decimales\n",
        "datos1 = np.round(np.random.rand(30) * 100, 2)"
      ],
      "metadata": {
        "id": "BH7tEY_tpdso"
      },
      "execution_count": null,
      "outputs": []
    },
    {
      "cell_type": "code",
      "source": [
        "# Se imprimen los datos para poder verlos\n",
        "print(datos1)"
      ],
      "metadata": {
        "id": "QCBHechIphKr"
      },
      "execution_count": null,
      "outputs": []
    },
    {
      "cell_type": "code",
      "source": [
        "# Se generan 30 valores aleatorios entre 150 y 250, redondeados a dos decimales\n",
        "datos2 = np.round((np.random.rand(90) + 1.5) * 100, 2)"
      ],
      "metadata": {
        "id": "wUyUecRhMbf9"
      },
      "execution_count": null,
      "outputs": []
    },
    {
      "cell_type": "code",
      "source": [
        "# Nuevamente se imprimen los datos\n",
        "print(datos2)"
      ],
      "metadata": {
        "id": "IqtMOcqJfhWC"
      },
      "execution_count": null,
      "outputs": []
    },
    {
      "cell_type": "markdown",
      "source": [
        "# Cálculo de estadísticos\n",
        "En las siguientes celdas se calculará la media, mediana, desviación estádar, cuartiles y rango intercuartil de los datos generados de forma aleatoria."
      ],
      "metadata": {
        "id": "9VTonQAQiF6E"
      }
    },
    {
      "cell_type": "markdown",
      "source": [
        "Ahora se emplea la biblioteca numpy para calcular los estadísticos deseados."
      ],
      "metadata": {
        "id": "xSV5z3Z_i3bB"
      }
    },
    {
      "cell_type": "code",
      "source": [
        "# Calculo de la media\n",
        "media_datos1 = np.mean(datos1)\n",
        "media_datos2 = np.mean(datos2)\n",
        "\n",
        "# Calculo de la mediana\n",
        "mediana_datos1 = np.median(datos1)\n",
        "mediana_datos2 = np.median(datos2)\n",
        "\n",
        "# Calculo de la varianza\n",
        "varianza_datos1 = np.var(datos1)\n",
        "varianza_datos2 = np.var(datos2)\n",
        "\n",
        "# Calculo de los cuartiles\n",
        "cuartiles_datos1 = np.percentile(datos1, [25, 50, 75])\n",
        "cuartiles_datos2 = np.percentile(datos2, [25, 50, 75])\n",
        "\n",
        "# Calculo del rango intercuartil\n",
        "rango_intercuartil_datos1 = np.diff(cuartiles_datos1)\n",
        "rango_intercuartil_datos2 = np.diff(cuartiles_datos2)"
      ],
      "metadata": {
        "id": "Pl9xSS1UiSQw"
      },
      "execution_count": null,
      "outputs": []
    },
    {
      "cell_type": "markdown",
      "source": [
        "Ahora imprimimos la información."
      ],
      "metadata": {
        "id": "_UzAT5Owkv2i"
      }
    },
    {
      "cell_type": "code",
      "source": [
        "# Imprimir resultados\n",
        "print(\"Datos1:\")\n",
        "print(\"Media:\", media_datos1)\n",
        "print(\"Varianza:\", varianza_datos1)\n",
        "print(\"Mediana:\", mediana_datos1)\n",
        "print(\"Cuartiles:\", cuartiles_datos1)\n",
        "print(\"Rango intercuartil:\", rango_intercuartil_datos1)\n",
        "\n",
        "print(\"\\nDatos2:\")\n",
        "print(\"Media:\", media_datos2)\n",
        "print(\"Varianza:\", varianza_datos2)\n",
        "print(\"Mediana:\", mediana_datos2)\n",
        "print(\"Cuartiles:\", cuartiles_datos2)\n",
        "print(\"Rango intercuartil:\", rango_intercuartil_datos2)\n"
      ],
      "metadata": {
        "id": "28BM59U3iylv"
      },
      "execution_count": null,
      "outputs": []
    },
    {
      "cell_type": "markdown",
      "source": [
        "# Diagrama de cajas\n",
        "En la siguiente celda se muestra el código para generar un diagrama de cajas con los datos1 y datos2."
      ],
      "metadata": {
        "id": "vxOEL7mnk8WB"
      }
    },
    {
      "cell_type": "code",
      "source": [
        "data = [datos1, datos2]\n",
        "etiquetas = [\"datos1\", \"datos2\"]\n",
        "# Grafica el diagrama de caja en blanco y negro\n",
        "plt.figure(figsize=(8, 6))\n",
        "plt.boxplot(data, patch_artist=True, boxprops=dict(facecolor='white', color='black'), whiskerprops=dict(color='black'), medianprops=dict(color='black'), labels=etiquetas)\n",
        "#plt.xlabel('Datos')\n",
        "plt.ylabel('Valor')\n",
        "plt.title('Diagrama de Caja')\n",
        "plt.grid(True)\n",
        "plt.show()"
      ],
      "metadata": {
        "id": "HmdbR8f1PoQX"
      },
      "execution_count": null,
      "outputs": []
    },
    {
      "cell_type": "code",
      "source": [],
      "metadata": {
        "id": "pZHkwMKwv34k"
      },
      "execution_count": null,
      "outputs": []
    }
  ]
}