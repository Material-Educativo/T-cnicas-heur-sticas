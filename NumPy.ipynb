{
  "nbformat": 4,
  "nbformat_minor": 0,
  "metadata": {
    "colab": {
      "provenance": [],
      "authorship_tag": "ABX9TyN3iB43YkqBF8mO2Q2VbmCo",
      "include_colab_link": true
    },
    "kernelspec": {
      "name": "python3",
      "display_name": "Python 3"
    },
    "language_info": {
      "name": "python"
    }
  },
  "cells": [
    {
      "cell_type": "markdown",
      "metadata": {
        "id": "view-in-github",
        "colab_type": "text"
      },
      "source": [
        "<a href=\"https://colab.research.google.com/github/Material-Educativo/Tecnicas-heuristicas/blob/main/NumPy.ipynb\" target=\"_parent\"><img src=\"https://colab.research.google.com/assets/colab-badge.svg\" alt=\"Open In Colab\"/></a>"
      ]
    },
    {
      "cell_type": "markdown",
      "source": [
        "#NumPy\n",
        "NumPy es una biblioteca desarrollada para Python que se emplea principalmente para realizar operaciones matemáticas con vectores y matrices de manera muy eficiente.\n",
        "\n",
        "Al igual que con la biblioteca pandas, una revisión completa de las características de NumPy está fuera del alcance de este libro. Sin embargo, en las siguientes secciones veremos algunos ejemplos de su uso que serán muy útiles para el desarrollo de técnicas heurísticas.\n"
      ],
      "metadata": {
        "id": "X3Jh_K9uReF2"
      }
    },
    {
      "cell_type": "markdown",
      "source": [
        "Para poder emplear la biblioteca NumPy es necesario importarla dentro del $notebook$, escribiendo $import$ $numpy$. Sin embargo, es muy común renombrar a NumPy como $np$, como se observa en la siguiente celda.\n",
        "\n",
        "De esta forma, cada vez que se requiera alguna función de NumPy se usará el nuevo nombre *np*."
      ],
      "metadata": {
        "id": "pDy_7eLBvJSp"
      }
    },
    {
      "cell_type": "code",
      "source": [
        "import numpy as np"
      ],
      "metadata": {
        "id": "lwYFl9G0vgM5"
      },
      "execution_count": null,
      "outputs": []
    },
    {
      "cell_type": "markdown",
      "source": [
        "##Arreglos de múltiples dimensiones\n",
        "Una de las características más importantes de NumPy es su capacidad para realizar operaciones con arreglos de múltiples dimensiones de manera muy eficiente.\n",
        "\n",
        "Eficiencia: NumPy está escrito en C y Fortran, lo que le confiere una gran eficiencia en términos de velocidad de ejecución. Las operaciones sobre matrices NumPy se realizan de manera optimizada, lo que las hace mucho más rápidas que las operaciones equivalentes en Python puro.\n",
        "\n",
        "Para empezar es importante explicar lo que implica cada dimensión.\n",
        "\n",
        "Cada dimensión en los arreglos de NumPy indica el número de índices necesarios para acceder a un elemento dentro del arreglo.\n",
        "\n",
        "Por ejemplo, un arreglo unidimensional es aquel que tiene sólo una dimensión y se accede a sus elementos utilizando un solo índice. Normalmente, puede verse como un arreglo con un solo renglón, pero con varias columnas. Otro enfoque consiste en ver a los arreglos unidimensionales como vectores en $\\mathbb{R}^n$."
      ],
      "metadata": {
        "id": "el-eDi42Thjv"
      }
    },
    {
      "cell_type": "markdown",
      "source": [
        "Siguiendo el mismo razonamiento, un arreglo bidimensional tiene dos dimensiones, lo que significa que se necesitan especificar dos índices para acceder a sus elementos. Para visualizar un arreglo bidimensional puedes pensar en matrices, las cuales tienen renglones y columnas, y así sucesivamente para arreglos de más dimensiones.\n",
        "\n",
        "En la siguiente celda se muestran ejemplos de arreglos de diferentes dimensiones. En este caso, $arr\\_unidimensional$ es un arreglo unidimensional con cinco elementos, y $arr\\_bidimensional$ es un arreglo bidimensional con dos renglones y tres columnas. Cada dimensión en estos arreglos representa un nivel de anidamiento necesario para acceder a sus elementos."
      ],
      "metadata": {
        "id": "60pMzgmFCwug"
      }
    },
    {
      "cell_type": "code",
      "source": [
        "# Arreglo unidimensional (1 dimensión)\n",
        "arr_unidimensional = np.array([1, 2, 3, 4, 5])\n",
        "\n",
        "# Arreglo bidimensional (2 dimensiones)\n",
        "arr_bidimensional = np.array([[1, 2, 3], [4, 5, 6]])\n",
        "\n",
        "# Arreglo tridimensional (3 dimensiones)\n",
        "arr_tridimensional = np.array([[[1, 2], [3, 4]], [[5, 6], [7, 8]]])\n",
        "\n",
        "print(\"Arreglo unidimensional:\")\n",
        "print(arr_unidimensional)\n",
        "\n",
        "print(\"\\nArreglo bidimensional:\")\n",
        "print(arr_bidimensional)\n",
        "\n",
        "print(\"\\nArreglo tridimensional:\")\n",
        "print(arr_tridimensional)"
      ],
      "metadata": {
        "id": "Us2A_V7VTNRp"
      },
      "execution_count": null,
      "outputs": []
    },
    {
      "cell_type": "markdown",
      "source": [
        "Si ahora quieres acceder a un elemento específico sólo tienes que indicar su posición, pero recuerda que en Python el conteo inicia en cero.\n",
        "\n",
        "En la siguiente celda se ilustra cómo acceder al primer y al quinto elemento de $arr\\_unidemensional$. Observa que el quinto elemento es el último del arreglo, por lo tanto puedes acceder a él mediante su posición, [4], o indicando que es el último en el arreglo, [-1]. En efecto, en Python se puede acceder a la última posición de un arreglo con un [-1], de manera análoga la penúltima posición es [-2], y así sucesivamente."
      ],
      "metadata": {
        "id": "oTnzWQSKRl0S"
      }
    },
    {
      "cell_type": "code",
      "source": [
        "# Acceder al primer elemento\n",
        "print(\"Primer elemento:\", arr_unidimensional[0])\n",
        "\n",
        "# Acceder al quinto elemento\n",
        "print(\"Quinto elemento:\", arr_unidimensional[4])\n",
        "\n",
        "# Acceder al último elemento\n",
        "print(\"Último elemento:\", arr_unidimensional[-1])"
      ],
      "metadata": {
        "id": "QB7ygs2GRkq1"
      },
      "execution_count": null,
      "outputs": []
    },
    {
      "cell_type": "markdown",
      "source": [
        "Algunas técnicas empleadas para acceder a los valores de un arreglo bidimensional se ilustran en la siguiente celda. Observa que la posición de un elemento se indica por medio del renglón y columna que ocupa."
      ],
      "metadata": {
        "id": "kmTs_56_SZ20"
      }
    },
    {
      "cell_type": "code",
      "source": [
        "# Acceder al elemento en la renglón 0 y columna 1\n",
        "print(\"Elemento en la fila 0 y columna 1:\", arr_bidimensional[0, 1])\n",
        "\n",
        "# Acceder a todo el segundo renglón\n",
        "print(\"Segunda fila completa:\", arr_bidimensional[1])\n",
        "\n",
        "# Acceder a la primera columna\n",
        "print(\"Primera columna completa:\", arr_bidimensional[:, 0])"
      ],
      "metadata": {
        "id": "u3uaLCkUSf6d"
      },
      "execution_count": null,
      "outputs": []
    },
    {
      "cell_type": "markdown",
      "source": [
        "Arreglos de ceros.\n",
        "\n",
        "Puedes crear arreglos de ceros con la función np.zeros() especificando las dimensiones del arreglo que deseas crear. Por ejemplo, para crear un arreglo unidimensional de 5 elementos lleno de ceros:"
      ],
      "metadata": {
        "id": "v_BkZBy_WnsK"
      }
    },
    {
      "cell_type": "code",
      "source": [
        "# Crear un arreglo unidimensional de ceros con 5 elementos\n",
        "arr_ceros = np.zeros(5)\n",
        "print(\"Arreglo de ceros unidimensional:\")\n",
        "print(arr_ceros)\n",
        "\n",
        "# Crear un arreglo bidimensional de ceros con forma (3, 4)\n",
        "arr_ceros_bidimensional = np.zeros((3, 4))\n",
        "print(\"\\nArreglo de ceros bidimensional:\")\n",
        "print(arr_ceros_bidimensional)"
      ],
      "metadata": {
        "id": "SHSiXg4JWpvJ"
      },
      "execution_count": null,
      "outputs": []
    },
    {
      "cell_type": "markdown",
      "source": [
        "Arreglos de unos.\n",
        "\n",
        "De manera similar, puedes crear arreglos de unos con la función np.ones().\n",
        "\n",
        "En la siguiente celda se ilustra la creación de un arreglo unidimensional con tres columnas, y un arreglo bidimensional con dos renglones y tres columnas, ambos arreglos llenos con valores iguales a 1."
      ],
      "metadata": {
        "id": "dYNmTAIJWsiO"
      }
    },
    {
      "cell_type": "code",
      "source": [
        "# Crear un arreglo unidimensional de unos con 3 elementos\n",
        "arr_unos = np.ones(3)\n",
        "print(\"Arreglo de unos unidimensional:\")\n",
        "print(arr_unos)\n",
        "\n",
        "# Crear un arreglo bidimensional de unos con forma (2, 3)\n",
        "arr_unos_bidimensional = np.ones((2, 3))\n",
        "print(\"\\nArreglo de unos bidimensional:\")\n",
        "print(arr_unos_bidimensional)\n"
      ],
      "metadata": {
        "id": "9OXeDzasWuRP"
      },
      "execution_count": null,
      "outputs": []
    },
    {
      "cell_type": "markdown",
      "source": [
        "Finalmente, también resulta muy útil poder convertir una lista de números en un arreglo tipo NumPy, lo cual puede hacerse con la función $numpy.array$, o $np.array$ si se ha renombrado la biblioteca, como se ilustra en la siguiente celda."
      ],
      "metadata": {
        "id": "G5LMLR8-UhXL"
      }
    },
    {
      "cell_type": "code",
      "source": [
        "# Lista de Python\n",
        "lista_python = [1, 2, 3, 4, 5]\n",
        "\n",
        "# Convertir la lista en un arreglo NumPy\n",
        "arreglo_numpy = np.array(lista_python)\n",
        "\n",
        "print(arreglo_numpy)"
      ],
      "metadata": {
        "id": "3G1YlNaaVh0k"
      },
      "execution_count": null,
      "outputs": []
    },
    {
      "cell_type": "markdown",
      "source": [
        "#Operaciones con NumPy"
      ],
      "metadata": {
        "id": "g6VMjAplWGkQ"
      }
    },
    {
      "cell_type": "markdown",
      "source": [
        "NumPy proporciona una amplia gama de funciones matemáticas para realizar operaciones comunes, como trigonometría, álgebra lineal, estadísticas, generación de números aleatorios, entre otras. Estas funciones están optimizadas para trabajar con matrices NumPy y pueden aplicarse de manera vectorizada, lo que aumenta aún más su eficiencia.\n",
        "\n",
        "A continuación se presentan los siguientes ejemplos.\n",
        "\n",
        "*   La suma de del mismo valor a todos los elementos de un arreglo\n",
        "*   Dividir todos los elementos de un arreglo entre el mismo valor\n",
        "*   Obtener la raíz cuadrada de cada elemento de un arreglo\n",
        "*   Cálculo de la media y desviación estándar de los valores de un arreglo\n",
        "*   Creación de un arreglo con 6 valores generados de forma aleatoria\n",
        "*   Cálculo de la exponencial de un número\n",
        "*   Cálculo del coseno de un número"
      ],
      "metadata": {
        "id": "0quRi73HXITZ"
      }
    },
    {
      "cell_type": "code",
      "source": [
        "# Sumar todos los valores del arreglo por un mismo valor\n",
        "arr = np.array([1, 2, 3, 4, 5])\n",
        "valor_a_sumar = 10\n",
        "arreglo_sumado = arr + valor_a_sumar\n",
        "print(\"Arreglo sumado:\", arreglo_sumado)\n",
        "\n",
        "# Dividir todos los valores del arreglo por un mismo valor\n",
        "arr = np.array([2, 4, 6, 7, 9])\n",
        "valor_a_dividir = 2\n",
        "arreglo_dividido = arr / valor_a_dividir\n",
        "print(\"Arreglo dividido:\", arreglo_dividido)\n",
        "\n",
        "# Calcular la raíz cuadrada de un arreglo usando NumPy\n",
        "arr = np.array([4, 9, 16, 25])\n",
        "raiz_cuadrada = np.sqrt(arr)\n",
        "print(\"Raíz cuadrada del array:\", raiz_cuadrada)\n",
        "\n",
        "# Calcular la media y la desviación estándar de un arreglo\n",
        "arr = np.array([1, 2, 3, 4, 5])\n",
        "media = np.mean(arr)\n",
        "desviacion_estandar = np.std(arr)\n",
        "print(\"Media del array:\", media)\n",
        "print(\"Desviación estándar del array:\", desviacion_estandar)\n",
        "\n",
        "# Crear un arreglo NumPy con 6 entradas aleatorias en el intervalo (0, 1)\n",
        "arreglo_aleatorio = np.random.rand(6)\n",
        "print(\"Arreglo aleatorio:\", arreglo_aleatorio)\n",
        "\n",
        "# Calcular la exponencial de un valor numérico usando NumPy\n",
        "valor = 2\n",
        "exponencial = np.exp(valor)\n",
        "print(\"Exponencial:\", exponencial)\n",
        "\n",
        "# Calcular el coseno de un número usando NumPy\n",
        "numero = 0.5\n",
        "coseno = np.cos(numero)\n",
        "print(\"Coseno:\", coseno)"
      ],
      "metadata": {
        "id": "t0OQBk4TXIlP"
      },
      "execution_count": null,
      "outputs": []
    },
    {
      "cell_type": "markdown",
      "source": [
        "# Eficiencia de NumPy\n",
        "\n",
        "Como se mencionó anteriormente, una de las ventajas de usar NumPy es su eficiencia para la realización de operaciones, para mostrar sus ventajas se propone realizar la multiplicación, elemento por elemento, de dos listas, como se presenta en la siguiente celda..\n",
        "\n",
        "Observa que la idea es sencilla, primero se importa la biblioteca time para medir el tiempo requerido para realizar la multiplicación de los elementos de dos listas de dos formas diferentes. Después se crean dos listas de Python con valores enteros que van de 0 a 999999. A continuación se usa un ciclo *for* para recorrer las listas entrada por entrada, realizar las multiplicaciones y guardar los resultados en $producto\\_lista$. Después las listas se convierten en arreglos de tipo NumPy y se multiplican con el operador *. En cada caso se imprime el tiempo requerido para completar las multiplicaciones."
      ],
      "metadata": {
        "id": "sohYT8A5XBVM"
      }
    },
    {
      "cell_type": "code",
      "source": [
        "import time\n",
        "\n",
        "# Crear dos listas de Python\n",
        "lista1 = list(range(1000000))\n",
        "lista2 = list(range(1000000))\n",
        "\n",
        "# Multiplicación de elementos de las listas usando Python puro\n",
        "inicio = time.time()\n",
        "producto_lista = [a * b for a, b in zip(lista1, lista2)]\n",
        "fin = time.time()\n",
        "print(\"Tiempo usando Python puro:\", fin - inicio)\n",
        "\n",
        "# Convertir las listas a arrays de NumPy\n",
        "arr1 = np.array(lista1)\n",
        "arr2 = np.array(lista2)\n",
        "\n",
        "# Multiplicación de elementos de los arrays usando NumPy\n",
        "inicio = time.time()\n",
        "producto_array = arr1 * arr2\n",
        "fin = time.time()\n",
        "print(\"Tiempo usando NumPy:\", fin - inicio)\n"
      ],
      "metadata": {
        "id": "HQzIJnekWzsA"
      },
      "execution_count": null,
      "outputs": []
    },
    {
      "cell_type": "markdown",
      "source": [
        "Los tiempos requeridos para cada caso serán diferentes dependiendo de las características del equipo que se esté usando. Sin embargo, el tiempo requerido por NumPy suele ser mucho menor.\n",
        "\n",
        "En una prueba realizada en el momento en que se redactó este ejemplo los resultados fueron:\n",
        "*  Tiempo usando Python puro: 0.14682388305664062 segundos\n",
        "*  Tiempo usando NumPy: 0.0091705322265625 segundos\n",
        "\n",
        "Aunque en ambos casos se requiere menos de un segundo, resulta claro que con NumPy se completó la operación casi 16 veces más rápido, lo cual es una mejora muy importante, más aún si se toma en cuenta que algunas operaciones se repetirán muchas veces, y las fracciones de segundo acumuladas pueden convertirse en grandes tiempos de espera."
      ],
      "metadata": {
        "id": "q1mgHP8Oi_X8"
      }
    },
    {
      "cell_type": "code",
      "source": [],
      "metadata": {
        "id": "gQoOJtnfcAGt"
      },
      "execution_count": null,
      "outputs": []
    }
  ]
}